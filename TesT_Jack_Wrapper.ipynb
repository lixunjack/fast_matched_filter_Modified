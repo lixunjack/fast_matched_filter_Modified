{
 "cells": [
  {
   "cell_type": "code",
   "execution_count": 1,
   "metadata": {},
   "outputs": [],
   "source": [
    "import os\n",
    "import numpy as np\n",
    "\n",
    "from matchedfilterGPU import matched_filter"
   ]
  },
  {
   "cell_type": "code",
   "execution_count": 2,
   "metadata": {},
   "outputs": [
    {
     "name": "stdout",
     "output_type": "stream",
     "text": [
      "Trying to compute with traces format\n"
     ]
    }
   ],
   "source": [
    "data=np.load('data/noisy_data.npy')\n",
    "templates=np.load('data/noisy_template.npy')\n",
    "pads=np.load('data/noisy_pads.npy')\n",
    "\n",
    "# templates=templates[:,:,:,::10]\n",
    "for _ in range (0,5):\n",
    "    data=np.concatenate((data,data),axis=2)\n",
    "\n",
    "print(\"Trying to compute with traces format\")\n",
    "n_templates = templates.shape[0]\n",
    "n_stations = templates.shape[1]\n",
    "n_components = templates.shape[2]\n",
    "n_samples_template =templates.shape[3]\n",
    "n_samples_data = data.shape[-1]\n",
    "\n",
    "weights = np.ones(\n",
    "    (len(templates), len(data)))\n",
    "weights /= len(data)"
   ]
  },
  {
   "cell_type": "code",
   "execution_count": 3,
   "metadata": {},
   "outputs": [
    {
     "data": {
      "text/plain": [
       "(5, 1, 3200000)"
      ]
     },
     "execution_count": 3,
     "metadata": {},
     "output_type": "execute_result"
    }
   ],
   "source": [
    "data.shape"
   ]
  },
  {
   "cell_type": "code",
   "execution_count": 4,
   "metadata": {},
   "outputs": [
    {
     "data": {
      "text/plain": [
       "(1, 5, 1, 600)"
      ]
     },
     "execution_count": 4,
     "metadata": {},
     "output_type": "execute_result"
    }
   ],
   "source": [
    "templates.shape"
   ]
  },
  {
   "cell_type": "code",
   "execution_count": 5,
   "metadata": {},
   "outputs": [
    {
     "data": {
      "text/plain": [
       "1"
      ]
     },
     "execution_count": 5,
     "metadata": {},
     "output_type": "execute_result"
    }
   ],
   "source": [
    "n_templates"
   ]
  },
  {
   "cell_type": "code",
   "execution_count": 6,
   "metadata": {},
   "outputs": [
    {
     "data": {
      "text/plain": [
       "(1, 5)"
      ]
     },
     "execution_count": 6,
     "metadata": {},
     "output_type": "execute_result"
    }
   ],
   "source": [
    "pads.shape"
   ]
  },
  {
   "cell_type": "code",
   "execution_count": 7,
   "metadata": {},
   "outputs": [
    {
     "data": {
      "text/plain": [
       "array([[146.,  65., 211., 131.,   0.]], dtype=float32)"
      ]
     },
     "execution_count": 7,
     "metadata": {},
     "output_type": "execute_result"
    }
   ],
   "source": [
    "pads"
   ]
  },
  {
   "cell_type": "code",
   "execution_count": 8,
   "metadata": {},
   "outputs": [],
   "source": [
    "templates = templates.reshape(\n",
    "    n_templates, n_stations * n_components, n_samples_template)\n",
    "weights_alt = weights.reshape(\n",
    "    n_templates, n_stations * n_components)\n",
    "moveouts = pads.reshape(\n",
    "    n_templates, n_stations * n_components)\n",
    "data = data.reshape(\n",
    "    n_stations * n_components, n_samples_data)"
   ]
  },
  {
   "cell_type": "code",
   "execution_count": 9,
   "metadata": {},
   "outputs": [],
   "source": [
    "import ctypes as ct"
   ]
  },
  {
   "cell_type": "code",
   "execution_count": 10,
   "metadata": {},
   "outputs": [],
   "source": [
    "sum_square_templates = np.sum(templates**2, axis=-1)\n",
    "sum_square_templates = np.ascontiguousarray(\n",
    "    sum_square_templates.flatten(), dtype=np.float32\n",
    ")\n",
    "\n",
    "\n",
    "step=1\n",
    "\n",
    "max_samples_template = np.max(n_samples_template)\n",
    "n_corr = int((n_samples_data - max_samples_template) / step + 1)\n",
    "\n",
    "cc = np.zeros(\n",
    "    n_templates * n_stations * n_components * (n_corr+1), dtype=np.float32\n",
    ")\n"
   ]
  },
  {
   "cell_type": "code",
   "execution_count": 11,
   "metadata": {},
   "outputs": [],
   "source": [
    "templates = np.ascontiguousarray(templates.flatten(), dtype=np.float32)\n",
    "moveouts= np.ascontiguousarray(moveouts.flatten(), dtype=np.int32)\n",
    "data = np.ascontiguousarray(data.flatten(), dtype=np.float32)\n",
    "weights = np.ascontiguousarray(weights.flatten(), dtype=np.float32)\n",
    "step=int(step)\n"
   ]
  },
  {
   "cell_type": "code",
   "execution_count": 12,
   "metadata": {},
   "outputs": [
    {
     "data": {
      "text/plain": [
       "1"
      ]
     },
     "execution_count": 12,
     "metadata": {},
     "output_type": "execute_result"
    }
   ],
   "source": [
    "n_templates"
   ]
  },
  {
   "cell_type": "code",
   "execution_count": 13,
   "metadata": {},
   "outputs": [
    {
     "ename": "NameError",
     "evalue": "name 'STOP' is not defined",
     "output_type": "error",
     "traceback": [
      "\u001b[1;31m---------------------------------------------------------------------------\u001b[0m",
      "\u001b[1;31mNameError\u001b[0m                                 Traceback (most recent call last)",
      "Cell \u001b[1;32mIn[13], line 1\u001b[0m\n\u001b[1;32m----> 1\u001b[0m STOP\n",
      "\u001b[1;31mNameError\u001b[0m: name 'STOP' is not defined"
     ]
    }
   ],
   "source": [
    "STOP"
   ]
  },
  {
   "cell_type": "code",
   "execution_count": 14,
   "metadata": {},
   "outputs": [],
   "source": [
    "\n",
    "matched_filter(templates, sum_square_templates, moveouts, \n",
    "               data, weights, step, n_samples_template, n_samples_data, n_templates,\n",
    "               n_stations, n_components, n_corr, cc)   \n",
    "\n",
    "\n",
    "\n",
    "    \n",
    "    # void matched_filter(float *templates, float *sum_square_templates,\n",
    "    #                     int *moveouts, float *data, float *weights, size_t step,\n",
    "    #                     size_t n_samples_template, size_t n_samples_data,\n",
    "    #                     size_t n_templates, size_t n_stations,\n",
    "    #                     size_t n_components, size_t n_corr,\n",
    "    #                     float *cc_out, int normalize, int sum_cc_mode)\n",
    "    \n",
    "    "
   ]
  },
  {
   "cell_type": "code",
   "execution_count": 15,
   "metadata": {},
   "outputs": [
    {
     "data": {
      "text/plain": [
       "-0.018576073"
      ]
     },
     "execution_count": 15,
     "metadata": {},
     "output_type": "execute_result"
    }
   ],
   "source": [
    "cc[1]"
   ]
  },
  {
   "cell_type": "code",
   "execution_count": null,
   "metadata": {},
   "outputs": [],
   "source": [
    "                    network_corr<<<GS, BS, sharedMem>>>(templates_d_t,\n",
    "                                                        sum_square_templates_d_t,\n",
    "                                                        moveouts_d_t,\n",
    "                                                        data_d,\n",
    "                                                        weights_d_t,\n",
    "                                                        step,\n",
    "                                                        n_samples_template,\n",
    "                                                        n_samples_data,\n",
    "                                                        n_stations,\n",
    "                                                        n_components,\n",
    "                                                        chunk_offset,\n",
    "                                                        cs,\n",
    "                                                        cc_mat_d,\n",
    "                                                        normalize);\n"
   ]
  },
  {
   "cell_type": "code",
   "execution_count": null,
   "metadata": {},
   "outputs": [],
   "source": [
    "# import os\n",
    "# import numpy as np\n",
    "\n",
    "# from cuda_add import add\n",
    "\n",
    "# import numpy as np\n",
    "# import cuda_add  # Ensure this module name matches the name given in PYBIND11_MODULE\n",
    "\n",
    "# # Create two NumPy arrays with random values\n",
    "# x = np.random.rand(6024000000).astype('float32')\n",
    "# y = np.random.rand(6024000000).astype('float32')\n",
    "\n",
    "# # Print original arrays\n",
    "# print(\"Original x: \", x[:5])  # Print first 5 elements to check\n",
    "# print(\"Original y: \", y[:5])\n",
    "\n",
    "# # Call the add function from your CUDA module\n",
    "# add(x, y)  # This will modify 'y' in place\n",
    "\n",
    "# # Print the result\n",
    "# print(\"Modified y (x + y): \", y[:5])\n"
   ]
  }
 ],
 "metadata": {
  "kernelspec": {
   "display_name": "Python 3",
   "language": "python",
   "name": "python3"
  },
  "language_info": {
   "codemirror_mode": {
    "name": "ipython",
    "version": 3
   },
   "file_extension": ".py",
   "mimetype": "text/x-python",
   "name": "python",
   "nbconvert_exporter": "python",
   "pygments_lexer": "ipython3",
   "version": "3.11.5"
  }
 },
 "nbformat": 4,
 "nbformat_minor": 2
}
