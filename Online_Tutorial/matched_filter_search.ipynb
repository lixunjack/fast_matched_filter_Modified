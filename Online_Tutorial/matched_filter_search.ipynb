{
 "cells": [
  {
   "cell_type": "markdown",
   "metadata": {},
   "source": [
    "# Script 2:\n",
    "\n",
    "This script uses the template event we built in the previous script to detect new earthquakes using template matching. It shows how to write the input arrays in the right format for FMF."
   ]
  },
  {
   "cell_type": "code",
   "execution_count": null,
   "metadata": {},
   "outputs": [],
   "source": [
    "import sys\n",
    "import os\n",
    "sys.path.append(os.getcwd())\n",
    "\n",
    "import h5py as h5\n",
    "import numpy as np\n",
    "import utils\n",
    "\n",
    "from obspy.core import UTCDateTime as udt\n",
    "import matplotlib.pyplot as plt\n",
    "import fast_matched_filter as fmf\n",
    "from time import time as give_time"
   ]
  },
  {
   "cell_type": "markdown",
   "metadata": {},
   "source": [
    "You might have received a warning message complaining about the cuda library not being here. This happens if you could not compile the C/cuda code when installing Fast Matched Filter (FMF). This is not a problem if you do not have any Nvidia GPUs, but you might want to recompile FMF if you want to beneficiate from GPUs. "
   ]
  },
  {
   "cell_type": "markdown",
   "metadata": {},
   "source": [
    "## Load the data and the template that we have just created"
   ]
  },
  {
   "cell_type": "code",
   "execution_count": null,
   "metadata": {},
   "outputs": [],
   "source": [
    "# load the data from day 2013-03-17\n",
    "data = utils.load_data('data_FMF_tutorial.h5')\n",
    "\n",
    "# load the template event that we have just built\n",
    "template = utils.load_template('template.h5', path='./output/')\n",
    "print('template is a Python dictionary and has 3 new categories compared \\\n",
    "      to the template_metadata previsouly used \\\n",
    "      (the P- and S-wave moveouts and the waveforms):\\n', template.keys())"
   ]
  },
  {
   "cell_type": "markdown",
   "metadata": {},
   "source": [
    "## Prepare the inputs for FMF\n",
    "\n",
    "FMF expects 6 arguments:\n",
    "- template_array $(n_{\\mathrm{templates}} \\times n_{\\mathrm{stations}} \\times n_{\\mathrm{components}} \\times n_{\\mathrm{samples-in-template}})$\n",
    "- moveout_array $(n_{\\mathrm{templates}} \\times n_{\\mathrm{stations}} \\times n_{\\mathrm{components}})$\n",
    "- weight_array $(n_{\\mathrm{templates}} \\times n_{\\mathrm{stations}} \\times n_{\\mathrm{components}})$\n",
    "- data_array $(n_{\\mathrm{stations}} \\times n_{\\mathrm{components}} \\times n_{\\mathrm{samples-in-data}})$\n",
    "- matched_filter_step \n",
    "- architecture\n",
    "\n",
    "Because this example only uses a single template, $n_{\\mathrm{templates}} = 1$.\n"
   ]
  },
  {
   "cell_type": "code",
   "execution_count": null,
   "metadata": {},
   "outputs": [],
   "source": [
    "# format the inputs for fmf by adding a new dimension\n",
    "# with 1 element (because this example only uses one template)\n",
    "template_array = template['waveforms'][np.newaxis, :]\n",
    "print('Shape of the template array: ', template_array.shape)\n",
    "moveouts = np.hstack( (template['moveouts_S'].reshape(-1, 1),\n",
    "                       template['moveouts_S'].reshape(-1, 1),\n",
    "                       template['moveouts_P'].reshape(-1, 1)) )\n",
    "moveout_array = moveouts[np.newaxis, :]\n",
    "print('Shape of the moveout array: ', moveout_array.shape)\n",
    "# fmf requires a weight matrix used to compute the weighted correlation\n",
    "# coefficient sum\n",
    "weight_array = np.ones_like(moveout_array, dtype=np.float32)\n",
    "n_stations = weight_array.shape[1]\n",
    "n_components = weight_array.shape[2]\n",
    "# normalize so that the max value is 1 (optional)\n",
    "weight_array /= np.float32(n_stations * n_components)\n",
    "print('Shape of the weight array: ', weight_array.shape)\n",
    "\n",
    "# fmf needs two extra arguments:\n",
    "matched_filter_step = 1 # if set to 1, the sliding windows are taken every sample\n",
    "architecture = 'cpu' # run fmf on GPUs (other option is 'cpu')"
   ]
  },
  {
   "cell_type": "markdown",
   "metadata": {},
   "source": [
    "## Run FMF!\n",
    "\n",
    "FMF takes care of the core task of template matching: computing the correlation coefficients between the template and the data."
   ]
  },
  {
   "cell_type": "code",
   "execution_count": null,
   "metadata": {},
   "outputs": [],
   "source": [
    "t_start = give_time()\n",
    "cc_sum = fmf.matched_filter(template_array,\n",
    "                            moveout_array,\n",
    "                            weight_array,\n",
    "                            data['waveforms'],\n",
    "                            matched_filter_step,\n",
    "                            arch=architecture)\n",
    "t_end = give_time()\n",
    "print('{:.2f} s to run the matched filter search'.format(t_end-t_start))"
   ]
  },
  {
   "cell_type": "markdown",
   "metadata": {},
   "source": [
    "## Save the correlation coefficient time series"
   ]
  },
  {
   "cell_type": "code",
   "execution_count": null,
   "metadata": {},
   "outputs": [],
   "source": [
    "# save the output\n",
    "with h5.File('./output/cc_sum.h5', mode='w') as f:\n",
    "    f.create_dataset('cc_sum', data=cc_sum, compression='gzip')"
   ]
  },
  {
   "cell_type": "markdown",
   "metadata": {},
   "source": [
    "## Plot the correlation coefficients\n",
    "\n",
    "Note that the max value should be one, since we extracted the template event from this day and we are using **matched_filter_step** = 1. Note also that this is only possible when there are no rounding errors between the times used to extract the windows and the moveouts given to FMF (which is a common error!). Remember that we took care of rounding our travel times before extracting the windows, in order to have consistent window shifts and moveouts."
   ]
  },
  {
   "cell_type": "code",
   "execution_count": null,
   "metadata": {},
   "outputs": [],
   "source": [
    "# tune some plotting parameters\n",
    "font = {'family': 'serif', \n",
    "        'size': 18}\n",
    "plt.rc('font', **font)"
   ]
  },
  {
   "cell_type": "code",
   "execution_count": null,
   "metadata": {},
   "outputs": [],
   "source": [
    "# plot the cc time series\n",
    "figsize = (28, 12)\n",
    "plt.figure('cc_sum', figsize=figsize)\n",
    "time = np.linspace(0., float(cc_sum.shape[1]) / data['metadata']['sampling_rate'], cc_sum.shape[1])\n",
    "smart_plot = np.abs(cc_sum[0, :]) > 2.5 * np.std(cc_sum[0, :])\n",
    "plt.plot(time[smart_plot], cc_sum[0, smart_plot], lw=0.5)\n",
    "plt.axhline(1, lw=2, ls='--', color='k')\n",
    "plt.xlabel('Time (s)')\n",
    "plt.ylabel('Average correlation coefficient')\n",
    "plt.xlim(time.min(), time.max())\n",
    "plt.show()"
   ]
  },
  {
   "cell_type": "markdown",
   "metadata": {},
   "source": [
    "If the plot looks odd, with missing values, this is because we discard most of the low values to make the plot more friendly for your computer."
   ]
  },
  {
   "cell_type": "code",
   "execution_count": null,
   "metadata": {},
   "outputs": [],
   "source": []
  }
 ],
 "metadata": {
  "kernelspec": {
   "display_name": "Python 3",
   "language": "python",
   "name": "python3"
  },
  "language_info": {
   "codemirror_mode": {
    "name": "ipython",
    "version": 3
   },
   "file_extension": ".py",
   "mimetype": "text/x-python",
   "name": "python",
   "nbconvert_exporter": "python",
   "pygments_lexer": "ipython3",
   "version": "3.7.3"
  }
 },
 "nbformat": 4,
 "nbformat_minor": 4
}
