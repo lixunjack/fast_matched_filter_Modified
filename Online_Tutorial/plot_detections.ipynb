{
 "cells": [
  {
   "cell_type": "code",
   "execution_count": null,
   "metadata": {},
   "outputs": [],
   "source": [
    "import sys\n",
    "import os\n",
    "sys.path.append(os.getcwd())\n",
    "\n",
    "import h5py as h5\n",
    "import numpy as np\n",
    "import utils\n",
    "\n",
    "from obspy.core import UTCDateTime as udt\n",
    "import matplotlib.pyplot as plt"
   ]
  },
  {
   "cell_type": "markdown",
   "metadata": {},
   "source": [
    "## Define the plotting function\n",
    "\n",
    "This function expects 4 arguments:\n",
    "- detections (see example at the end of this notebook)\n",
    "- n_best (plot the n_best detections)\n",
    "- template (see example at the end of this notebook)\n",
    "- station_idx (which station we use for plotting)"
   ]
  },
  {
   "cell_type": "code",
   "execution_count": null,
   "metadata": {},
   "outputs": [],
   "source": [
    "def plot_n_detections(detections, n_best, template, station_idx=0):\n",
    "    template_waveforms = template['waveforms'][station_idx, :, :]\n",
    "    detection_waveforms = detections['waveforms'][:, station_idx, :, :]\n",
    "    # only select the n_best best detections\n",
    "    I = np.argsort(detections['metadata']['correlation_coefficients'])[::-1]\n",
    "    I = I[:n_best]\n",
    "    chronological_order = np.argsort(detections['metadata']['origin_times'][I])\n",
    "    I = I[chronological_order]\n",
    "    # select subsets\n",
    "    detection_waveforms = detection_waveforms[I, :, :]\n",
    "    OT = detections['metadata']['origin_times'][I]\n",
    "    CC = detections['metadata']['correlation_coefficients'][I]\n",
    "    n_components = detection_waveforms.shape[1]\n",
    "    # define some useful variables before starting plotting\n",
    "    buffer_extracted_events = np.int32(10. * template['sampling_rate'])\n",
    "    moveouts = np.array([template['moveouts_S'][station_idx],\n",
    "                         template['moveouts_S'][station_idx],\n",
    "                         template['moveouts_P'][station_idx]])\n",
    "    duration = template['waveforms'].shape[-1]\n",
    "    components = ['N', 'E', 'Z']\n",
    "    # start plotting\n",
    "    time = np.linspace(0., 8., duration)\n",
    "    figsize = (28, 12)\n",
    "    plt.figure('detections', figsize=figsize)\n",
    "    plt.suptitle('Station {}'.format(template['stations'][station_idx].decode('utf-8')))\n",
    "    for c in range(n_components):\n",
    "        plt.subplot(n_best + 1, n_components, 1 + c)\n",
    "        plt.title(components[c])\n",
    "        plt.plot(time, template_waveforms[c, :], lw=0.75, color='C3', label='Template')\n",
    "        plt.xlim(time.min(), time.max())\n",
    "        if c == 2:\n",
    "            plt.legend(bbox_to_anchor=(1.05, 1), loc='upper left', borderaxespad=0., handlelength=0.1)\n",
    "        for n in range(n_best):\n",
    "            plt.subplot(n_best + 1, n_components, (1 + n)*n_components + c + 1)\n",
    "            idx_start = buffer_extracted_events + moveouts[c]\n",
    "            idx_end = idx_start + duration\n",
    "            plt.plot(time, detection_waveforms[n, c, idx_start:idx_end], lw=0.75, color='C0',\n",
    "                     label=udt(OT[n])\\\n",
    "                             .strftime('%Y,%m,%d -- %H:%M:%S'))\n",
    "            plt.xlim(time.min(), time.max())\n",
    "            if c == 2:\n",
    "                plt.legend(bbox_to_anchor=(1.05, 1), loc='upper left', borderaxespad=0.)\n",
    "            if c == 0:\n",
    "                plt.text(0.05, 0.5, 'CC = {:.2f}'.format(CC[n]), transform=plt.gca().transAxes,\n",
    "                        bbox=dict(facecolor='white', alpha=0.5))\n",
    "            if n == n_best - 1:\n",
    "                plt.xlabel('Time (s)')\n",
    "    plt.subplots_adjust(top=0.91,\n",
    "            bottom=0.075,\n",
    "            left=0.06,\n",
    "            right=0.885,\n",
    "            hspace=0.2,\n",
    "            wspace=0.2)\n",
    "    plt.show()"
   ]
  },
  {
   "cell_type": "markdown",
   "metadata": {},
   "source": [
    "## Load the detections"
   ]
  },
  {
   "cell_type": "code",
   "execution_count": null,
   "metadata": {},
   "outputs": [],
   "source": [
    "# choose n_mad according to the threshold you used before\n",
    "n_mad = 10\n",
    "filename = 'detections_20130317_{:d}_mad'.format(n_mad)\n",
    "\n",
    "# retrieve the extracted events\n",
    "tid = 0 # since we only used one template\n",
    "detections = utils.load_detections(filename, tid, path='./output/')\n",
    "print('detections is a Python dictionary with categories:\\n', list(detections.keys()))\n",
    "print('\\n')\n",
    "print('metadata is also a Python dictionary:\\n', list(detections['metadata'].keys()))"
   ]
  },
  {
   "cell_type": "markdown",
   "metadata": {},
   "source": [
    "## Load the template"
   ]
  },
  {
   "cell_type": "code",
   "execution_count": null,
   "metadata": {},
   "outputs": [],
   "source": [
    "template = utils.load_template('template.h5', path='./output/')"
   ]
  },
  {
   "cell_type": "markdown",
   "metadata": {},
   "source": [
    "## You are ready to play with our plotting function!\n",
    "\n",
    "Choose the number of detections you want to plot, and call the function. See for example:"
   ]
  },
  {
   "cell_type": "code",
   "execution_count": null,
   "metadata": {},
   "outputs": [],
   "source": [
    "# tune some plotting parameters\n",
    "font = {'family': 'serif', \n",
    "        'size': 16}\n",
    "plt.rc('font', **font)"
   ]
  },
  {
   "cell_type": "code",
   "execution_count": null,
   "metadata": {},
   "outputs": [],
   "source": [
    "n_best = 20\n",
    "plot_n_detections(detections, n_best, template, station_idx=2)"
   ]
  },
  {
   "cell_type": "code",
   "execution_count": null,
   "metadata": {},
   "outputs": [],
   "source": []
  }
 ],
 "metadata": {
  "kernelspec": {
   "display_name": "Python 3",
   "language": "python",
   "name": "python3"
  },
  "language_info": {
   "codemirror_mode": {
    "name": "ipython",
    "version": 3
   },
   "file_extension": ".py",
   "mimetype": "text/x-python",
   "name": "python",
   "nbconvert_exporter": "python",
   "pygments_lexer": "ipython3",
   "version": "3.7.3"
  }
 },
 "nbformat": 4,
 "nbformat_minor": 4
}
