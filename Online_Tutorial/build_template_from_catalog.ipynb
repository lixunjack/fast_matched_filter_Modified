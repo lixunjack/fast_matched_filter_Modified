{
 "cells": [
  {
   "cell_type": "markdown",
   "metadata": {},
   "source": [
    "# Script 1:\n",
    "\n",
    "This script uses the P- and S-wave picks from a catalogued earthquake to retrieve the waveforms from the continuous data. Then, it creates a template event usable in a subsequent matched filter search. This script can be generalized to generate a database of template events using a whole earthquake catalog."
   ]
  },
  {
   "cell_type": "code",
   "execution_count": null,
   "metadata": {},
   "outputs": [],
   "source": [
    "import sys\n",
    "import os\n",
    "sys.path.append(os.getcwd())\n",
    "\n",
    "import h5py as h5\n",
    "import numpy as np\n",
    "import utils\n",
    "\n",
    "from obspy.core import UTCDateTime as udt\n",
    "import matplotlib.pyplot as plt"
   ]
  },
  {
   "cell_type": "markdown",
   "metadata": {},
   "source": [
    "## Load the continuous seismic data and the event metadata\n",
    "\n",
    "Our data are stored in an h5 file, and we load them through the *load_data* function that returns a Python dictionary containing the waveforms and the relevant metadata. Similarly, the template metadata are stored in an h5 file and loaded in a Python dictionary."
   ]
  },
  {
   "cell_type": "code",
   "execution_count": null,
   "metadata": {},
   "outputs": [],
   "source": [
    "# load the data from day 2013-03-17\n",
    "data = utils.load_data('data_FMF_tutorial.h5')\n",
    "print('Elements in data:\\n', data.keys())\n",
    "print('metadata is also a Python dictionary:\\n', data['metadata'].keys())\n",
    "print('\\n')\n",
    "\n",
    "# load the metadata from a template event detected on day 2013-03-17\n",
    "template_metadata = utils.load_template('template_FMF_tutorial.h5')\n",
    "print('Elements in template_metadata:\\n', template_metadata.keys())"
   ]
  },
  {
   "cell_type": "markdown",
   "metadata": {},
   "source": [
    "## Retrieve the P- and S-wave picks from the origin time and the travel times"
   ]
  },
  {
   "cell_type": "code",
   "execution_count": null,
   "metadata": {},
   "outputs": [],
   "source": [
    "# use the metadata to extract the waveforms of the template event\n",
    "# first, retrieve the origin time\n",
    "origin_time = template_metadata['origin_time']\n",
    "# this time is a timestamp in seconds\n",
    "print('Timestamp in seconds: {:.2f}, human readable date: {}'.\\\n",
    "        format(origin_time, udt(origin_time).strftime('%Y,%m,%d--%H:%M:%S')))\n",
    "\n",
    "# second, using the travel times we build the picks\n",
    "# for both the P and S waves\n",
    "tt_P = template_metadata['p_travel_times']\n",
    "tt_S = template_metadata['s_travel_times']\n",
    "\n",
    "# the picks, or the phase arrivals, are the sum\n",
    "# of the origin time and the travel times\n",
    "picks_P = origin_time + np.float64(tt_P)\n",
    "picks_S = origin_time + np.float64(tt_S)\n",
    "for s in range(len(template_metadata['stations'])):\n",
    "    print('P pick on station {}: {}'.format(template_metadata['stations'][s].decode('utf-8'),\n",
    "                                            udt(picks_P[s]).strftime('%Y,%m,%d--%H:%M:%S')))\n",
    "    print('S pick on station {}: {}'.format(template_metadata['stations'][s].decode('utf-8'),\n",
    "                                            udt(picks_S[s]).strftime('%Y,%m,%d--%H:%M:%S')))\n",
    "    print('\\n')"
   ]
  },
  {
   "cell_type": "markdown",
   "metadata": {},
   "source": [
    "## Extract the time windows of interest\n",
    "**IMPORTANT: BEFORE EXTRACTING ANY WAVEFORMS, WE HAVE TO CONVERT ALL THE TIMES IN SECONDS TO TIMES IN SAMPLES**<br/>\n",
    "The reason for that is that the template moveouts are ultimately transformed to times in samples. To avoid rounding errors resulting from inconsistencies between the moveouts used when extracting the template waveforms and the moveouts converted to samples, we convert all times to samples before extracting the waveforms."
   ]
  },
  {
   "cell_type": "code",
   "execution_count": null,
   "metadata": {},
   "outputs": [],
   "source": [
    "# get the timestamp of the the beginning of your data\n",
    "# in this example, the data start at 2013,03,17 00:00:00\n",
    "T0 = udt('2013,03,17').timestamp\n",
    "\n",
    "# we can now define our picks as times relative to T0\n",
    "# and expressed in number of samples\n",
    "#\n",
    "# get the sampling rate:\n",
    "SR = data['metadata']['sampling_rate']\n",
    "\n",
    "# use the sampling rate to convert the times\n",
    "picks_P_samples = np.int32((picks_P - T0) * SR)\n",
    "picks_S_samples = np.int32((picks_S - T0) * SR)\n",
    "\n",
    "# let say we want to extract 1 second before the P wave\n",
    "# and 4 seconds before the S wave\n",
    "P_wave_buffer = np.int32(1. * SR)\n",
    "S_wave_buffer = np.int32(4. * SR)\n",
    "\n",
    "# these buffers define the beginning of the windows we want\n",
    "# to extract on each station\n",
    "beginning_P_windows = picks_P_samples - P_wave_buffer\n",
    "beginning_S_windows = picks_S_samples - S_wave_buffer\n",
    "print('We now have window start times in samples, relative to the beginning of the data array')\n",
    "for s in range(len(template_metadata['stations'])):\n",
    "    print('P window start time on station {}: {:d} samples'.format(\n",
    "        template_metadata['stations'][s].decode('utf-8'),\n",
    "        beginning_P_windows[s]))\n",
    "    print('S window start time on station {}: {:d} samples'.format(\n",
    "        template_metadata['stations'][s].decode('utf-8'),\n",
    "        beginning_S_windows[s]))\n",
    "    print('\\n')"
   ]
  },
  {
   "cell_type": "markdown",
   "metadata": {},
   "source": [
    "We are now ready to use the vectors **beginning_P_windows** and **beginning_S_windows** to extract the time windows from the continuous data. We choose a template length of 8 seconds.<br/>\n",
    "\n",
    "Windows centered around the S wave are extracted on the horizontal components, and windows capturing the P wave are extracted on the vertical components."
   ]
  },
  {
   "cell_type": "code",
   "execution_count": null,
   "metadata": {},
   "outputs": [],
   "source": [
    "# extract the waveforms:\n",
    "# let say we only want to extract the S wave on the\n",
    "# horizontal components, and the P wave on the \n",
    "# vertical components\n",
    "# we fix the template duration to 8 seconds\n",
    "n_stations = template_metadata['stations'].size\n",
    "n_components = len(data['metadata']['components'])\n",
    "duration = np.int32(8. * SR)\n",
    "template_waveforms = np.zeros((n_stations, n_components, duration),\n",
    "                              dtype=np.float32)\n",
    "for s in range(n_stations):\n",
    "    for c in range(n_components):\n",
    "        if c < 2:\n",
    "            # the data are organized such that c=0 and c=1 are \n",
    "            # the indexes for components north/south and east/west\n",
    "            idx_start = beginning_S_windows[s]\n",
    "            idx_end = idx_start + duration\n",
    "        else:\n",
    "            idx_start = beginning_P_windows[s]\n",
    "            idx_end = idx_start + duration\n",
    "        template_waveforms[s, c, :] = data['waveforms'][s, c, idx_start:idx_end]"
   ]
  },
  {
   "cell_type": "markdown",
   "metadata": {},
   "source": [
    "## Keep in memory the relative time shifts between each station / component, *i.e.* the moveouts\n",
    "\n",
    "The moveouts are a collection of time shifts relative to a reference time: we choose this reference time to be the beginning of the earliest time window."
   ]
  },
  {
   "cell_type": "code",
   "execution_count": null,
   "metadata": {},
   "outputs": [],
   "source": [
    "# we now keep in memory the relative time shifts between each channel,\n",
    "# which we call the moveouts\n",
    "# the reference time is the earliest start time of the windows\n",
    "reference_time = min(beginning_P_windows.min(), beginning_S_windows.min())\n",
    "moveouts_P = beginning_P_windows - reference_time\n",
    "moveouts_S = beginning_S_windows - reference_time\n",
    "\n",
    "moveouts = np.hstack( (moveouts_S.reshape(-1, 1),\n",
    "                       moveouts_S.reshape(-1, 1),\n",
    "                       moveouts_P.reshape(-1, 1)) )\n",
    "print('The horizontal and vertical component moveouts are:')\n",
    "for s in range(len(template_metadata['stations'])):\n",
    "    print('vertical component moveout on station {}: {:d} samples'.format(\n",
    "        template_metadata['stations'][s].decode('utf-8'),\n",
    "        moveouts_P[s]))\n",
    "    print('horizontal component moveout on station {}: {:d} samples'.format(\n",
    "        template_metadata['stations'][s].decode('utf-8'),\n",
    "        moveouts_S[s]))\n",
    "    print('\\n')"
   ]
  },
  {
   "cell_type": "markdown",
   "metadata": {},
   "source": [
    "## Save the template information in an h5 file"
   ]
  },
  {
   "cell_type": "code",
   "execution_count": null,
   "metadata": {},
   "outputs": [],
   "source": [
    "# save the output in an h5 file\n",
    "os.system('mkdir output')\n",
    "with h5.File('./output/template.h5', mode='w') as f:\n",
    "    with h5.File('./template_FMF_tutorial.h5', mode='r') as f2:\n",
    "        for key in f2.keys():\n",
    "            f.create_dataset(key, data=f2[key][()])\n",
    "    f.create_dataset('moveouts_P', data=moveouts_P, compression='gzip')\n",
    "    f.create_dataset('moveouts_S', data=moveouts_S, compression='gzip')\n",
    "    f.create_dataset('sampling_rate', data=data['metadata']['sampling_rate'])\n",
    "    f.create_dataset('waveforms', data=template_waveforms, compression='gzip')\n",
    "    print('We have just created a h5 database featuring the following datasets:\\n', list(f.keys()))"
   ]
  },
  {
   "cell_type": "markdown",
   "metadata": {},
   "source": [
    "## Plot the template event"
   ]
  },
  {
   "cell_type": "code",
   "execution_count": null,
   "metadata": {},
   "outputs": [],
   "source": [
    "# tune some plotting parameters\n",
    "font = {'family': 'serif', \n",
    "        'size': 18}\n",
    "plt.rc('font', **font)"
   ]
  },
  {
   "cell_type": "code",
   "execution_count": null,
   "metadata": {},
   "outputs": [],
   "source": [
    "# plot the template event\n",
    "mv_min = 0.\n",
    "mv_max = max(moveouts_P.max(), moveouts_S.max())\n",
    "time_min = mv_min\n",
    "time_max = (duration + mv_max) / SR # in seconds\n",
    "figsize = (28, 12) # note: you can play with figsize to better fit your monitor\n",
    "plt.figure('template_event', figsize=figsize)\n",
    "for s in range(n_stations):\n",
    "    for c in range(n_components):\n",
    "        plt.subplot(n_stations, n_components, s * n_components + c + 1)\n",
    "        # define time in seconds\n",
    "        time = np.linspace(moveouts[s, c], moveouts[s, c] + duration, duration) / SR\n",
    "        plt.plot(time, template_waveforms[s, c, :]/np.abs(template_waveforms[s, c, :]).max(), \n",
    "                 lw=0.75, label = '{}.{}'.\\\n",
    "                 format(template_metadata['stations'][s].decode('utf-8'), data['metadata']['components'][c]))\n",
    "        if c < 2:\n",
    "            plt.axvline(time[S_wave_buffer], lw=1., ls='--', color='C3')\n",
    "        else:\n",
    "            plt.axvline(time[P_wave_buffer], lw=1., ls='--', color='C3')\n",
    "        plt.legend(loc='best', frameon=False, handlelength=0.1)\n",
    "        plt.xlim(time_min, time_max)\n",
    "        if s == n_stations - 1:\n",
    "            plt.xlabel('Time (s)')\n",
    "        else:\n",
    "            plt.xticks([])\n",
    "plt.subplots_adjust(top=0.955,\n",
    "        bottom=0.09,\n",
    "        left=0.085,\n",
    "        right=0.955,\n",
    "        hspace=0.2,\n",
    "        wspace=0.2)"
   ]
  },
  {
   "cell_type": "markdown",
   "metadata": {},
   "source": [
    "The red dashed lines show the S-wave arrival (on the horizontal components, left two columns) and the P-wave arrival (on the vertical components, rightmost column) documented by the earthquake catalog."
   ]
  },
  {
   "cell_type": "code",
   "execution_count": null,
   "metadata": {},
   "outputs": [],
   "source": []
  }
 ],
 "metadata": {
  "kernelspec": {
   "display_name": "Python 3",
   "language": "python",
   "name": "python3"
  },
  "language_info": {
   "codemirror_mode": {
    "name": "ipython",
    "version": 3
   },
   "file_extension": ".py",
   "mimetype": "text/x-python",
   "name": "python",
   "nbconvert_exporter": "python",
   "pygments_lexer": "ipython3",
   "version": "3.7.3"
  }
 },
 "nbformat": 4,
 "nbformat_minor": 4
}
